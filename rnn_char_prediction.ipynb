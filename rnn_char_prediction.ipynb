{
  "nbformat": 4,
  "nbformat_minor": 0,
  "metadata": {
    "colab": {
      "name": "RNN Vanilla Char Prediction.ipynb",
      "version": "0.3.2",
      "provenance": [],
      "collapsed_sections": []
    },
    "kernelspec": {
      "name": "python3",
      "display_name": "Python 3"
    },
    "accelerator": "GPU"
  },
  "cells": [
    {
      "cell_type": "markdown",
      "metadata": {
        "id": "iv35tujVr2dP",
        "colab_type": "text"
      },
      "source": [
        "https://iamtrask.github.io/2015/11/15/anyone-can-code-lstm/"
      ]
    },
    {
      "cell_type": "code",
      "metadata": {
        "id": "vuD4rGb7rz5I",
        "colab_type": "code",
        "colab": {}
      },
      "source": [
        "import numpy as np"
      ],
      "execution_count": 0,
      "outputs": []
    },
    {
      "cell_type": "code",
      "metadata": {
        "id": "mIaR-So6rgLb",
        "colab_type": "code",
        "outputId": "804f74b0-bc13-47ea-e2c1-58685cc51409",
        "colab": {
          "base_uri": "https://localhost:8080/",
          "height": 34
        }
      },
      "source": [
        "data = \"hello\"\n",
        "data = data.lower()\n",
        "\n",
        "vocabulary = list(set([c for c in data]))\n",
        "vocabulary.sort()\n",
        "\n",
        "def char2vec(c):\n",
        "  return [1 if l==c else 0 for l in vocabulary]\n",
        "\n",
        "def vec2char(v):\n",
        "  return vocabulary[v.index(1)]\n",
        "\n",
        "print(char2vec('e'))"
      ],
      "execution_count": 0,
      "outputs": [
        {
          "output_type": "stream",
          "text": [
            "[1, 0, 0, 0]\n"
          ],
          "name": "stdout"
        }
      ]
    },
    {
      "cell_type": "code",
      "metadata": {
        "id": "uykBN-pesNgR",
        "colab_type": "code",
        "outputId": "2cfe1200-2a01-4c17-e7ba-54acf31774ac",
        "colab": {
          "base_uri": "https://localhost:8080/",
          "height": 187
        }
      },
      "source": [
        "def sigmoid(x):\n",
        "  return 1/(1 + np.exp(-x))\n",
        "def sigmoid_derivative(x):\n",
        "  return x*(1-x)\n",
        "\n",
        "lr = 0.1\n",
        "epochs = 10000\n",
        "len_train = 4\n",
        "i_dim = len(vocabulary)\n",
        "h_dim = 32\n",
        "o_dim = len(vocabulary)\n",
        "\n",
        "syn_i = np.random.uniform(low=-1, high=1, size=[i_dim, h_dim])\n",
        "syn_h = np.random.uniform(low=-1, high=1, size=[h_dim, h_dim])\n",
        "syn_o = np.random.uniform(low=-1, high=1, size=[h_dim, o_dim])\n",
        "\n",
        "for epoch in range(epochs):\n",
        "  total_error = 0\n",
        "  \n",
        "  for i in range(len(data) - len_train):\n",
        "    syn_i_update = np.zeros_like(syn_i)\n",
        "    syn_h_update = np.zeros_like(syn_h)\n",
        "    syn_o_update = np.zeros_like(syn_o)\n",
        "    \n",
        "    x_text = data[i:i+len_train]\n",
        "    y_text = data[i+1:i+len_train+1]\n",
        "    h_vals = []\n",
        "    o_vals = []\n",
        "    o_errors = []\n",
        "    h_val_pre = [0]*h_dim\n",
        "    \n",
        "    for j in range(len_train):\n",
        "      x = char2vec(x_text[j])\n",
        "      y = char2vec(y_text[j])\n",
        "      \n",
        "      h_val = sigmoid(np.dot(x, syn_i) + np.dot(h_val_pre, syn_h))\n",
        "      o_val = sigmoid(np.dot(h_val, syn_o))\n",
        "      h_val_pre = h_val\n",
        "      \n",
        "      h_vals.append(h_val)\n",
        "      o_vals.append(o_val)\n",
        "      o_errors.append(y - o_val)\n",
        "      \n",
        "    h_delta_fut = [0]*h_dim \n",
        "    for j in range(len_train):\n",
        "      x = char2vec(x_text[len_train-j-1])\n",
        "      o_val = o_vals[len_train-j-1]\n",
        "      h_val = h_vals[len_train-j-1]\n",
        "      h_val_pre = h_vals[len_train-j-2]\n",
        "      \n",
        "      o_delta = o_errors[len_train-j-1] * sigmoid_derivative(o_val)\n",
        "      h_delta = (np.dot(o_delta, syn_o.T) + np.dot(h_delta_fut, syn_h.T)) * sigmoid_derivative(h_val)\n",
        "      h_delta_fut = h_delta\n",
        "      \n",
        "      r = np.dot(np.atleast_2d(h_val).T, np.atleast_2d(o_delta))\n",
        "      syn_i_update += np.dot(np.atleast_2d(x).T, np.atleast_2d(h_delta))\n",
        "      syn_h_update += np.dot(np.atleast_2d(h_val_pre).T, np.atleast_2d(h_delta))\n",
        "      syn_o_update += np.dot(np.atleast_2d(h_val).T, np.atleast_2d(o_delta))\n",
        "    \n",
        "    syn_i += syn_i_update * len_train\n",
        "    syn_h += syn_h_update * len_train\n",
        "    syn_o += syn_o_update * len_train\n",
        "   \n",
        "  if(epoch % 1000 == 0): print(np.sum([np.abs(e) for e in o_errors]))"
      ],
      "execution_count": 0,
      "outputs": [
        {
          "output_type": "stream",
          "text": [
            "6.0128215314421904\n",
            "0.05966629407044323\n",
            "0.04173737738372951\n",
            "0.0339090568939496\n",
            "0.02926670502931334\n",
            "0.02610822631370035\n",
            "0.023781804357749837\n",
            "0.0219768342052764\n",
            "0.020524006632846183\n",
            "0.019322136351558848\n"
          ],
          "name": "stdout"
        }
      ]
    },
    {
      "cell_type": "code",
      "metadata": {
        "id": "S-zwdXQ1vrRc",
        "colab_type": "code",
        "outputId": "f95d2363-9811-464a-f89f-4b41554dc20c",
        "colab": {
          "base_uri": "https://localhost:8080/",
          "height": 34
        }
      },
      "source": [
        "def predict(char, size):\n",
        "  x = char2vec(char)\n",
        "  text = char\n",
        "  h_val_pre = [0]*h_dim\n",
        "  \n",
        "  for _ in range(size):\n",
        "    h_val = sigmoid(np.dot(x, syn_i) + np.dot(h_val_pre, syn_h))\n",
        "    o_val = sigmoid(np.dot(h_val, syn_o))\n",
        "    \n",
        "    idx = np.argmax(o_val)\n",
        "    text += vocabulary[idx]\n",
        "    \n",
        "    h_val_pre = h_val\n",
        "    x = o_val\n",
        "  return text  \n",
        "\n",
        "predict('h', 20)"
      ],
      "execution_count": 0,
      "outputs": [
        {
          "output_type": "execute_result",
          "data": {
            "text/plain": [
              "'helloelloellolllolloo'"
            ]
          },
          "metadata": {
            "tags": []
          },
          "execution_count": 8
        }
      ]
    }
  ]
}
